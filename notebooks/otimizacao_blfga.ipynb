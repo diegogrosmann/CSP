{
 "cells": [
  {
   "cell_type": "markdown",
   "id": "6be803f1",
   "metadata": {
    "colab_type": "text",
    "id": "view-in-github"
   },
   "source": [
    "<a href=\"https://colab.research.google.com/github/diegogrosmann/CSP/blob/main/notebooks/otimizacao_blfga.ipynb\" target=\"_parent\"><img src=\"https://colab.research.google.com/assets/colab-badge.svg\" alt=\"Open In Colab\"/></a>"
   ]
  },
  {
   "cell_type": "markdown",
   "id": "33836b5f",
   "metadata": {
    "id": "33836b5f"
   },
   "source": [
    "# Otimização do Algoritmo Genético BLF-GA para o Closest String Problem (CSP)\n",
    "\n",
    "Este notebook tem como objetivo analisar, testar e otimizar o desempenho do algoritmo BLF-GA aplicado ao CSP, seguindo um processo iterativo de experimentação e melhoria."
   ]
  },
  {
   "cell_type": "markdown",
   "id": "f493d07b",
   "metadata": {
    "id": "f493d07b"
   },
   "source": [
    "# 1. Inicializar as configurações básicas"
   ]
  },
  {
   "cell_type": "code",
   "execution_count": null,
   "id": "E-zUcsq1SlaH",
   "metadata": {
    "colab": {
     "base_uri": "https://localhost:8080/"
    },
    "id": "E-zUcsq1SlaH",
    "outputId": "e383f2d2-719a-442b-961d-8a3b4b46d6c9"
   },
   "outputs": [],
   "source": [
    "import os\n",
    "\n",
    "\n",
    "def is_colab():\n",
    "    try:\n",
    "        import google.colab\n",
    "        return True\n",
    "    except ImportError:\n",
    "        return False\n",
    "\n",
    "REPO_URL = \"https://github.com/diegogrosmann/CSP.git\"\n",
    "REPO_DIR = \"CSP\"\n",
    "\n",
    "if is_colab():\n",
    "    # Só executa esse bloco no Google Colab\n",
    "    if os.path.isdir(REPO_DIR):\n",
    "        print(f\"Pasta '{REPO_DIR}' já existe. Atualizando (git pull)...\")\n",
    "        os.chdir(REPO_DIR)\n",
    "        !git reset --hard\n",
    "        !git pull\n",
    "    else:\n",
    "        print(f\"Pasta '{REPO_DIR}' não existe. Clonando repositório...\")\n",
    "        !git clone {REPO_URL}\n",
    "        os.chdir(REPO_DIR)\n",
    "    %cd notebooks\n",
    "    print(f\"Agora você está na pasta: {os.getcwd()}\")\n",
    "else:\n",
    "    print(\"Você não está no Google Colab! Nada foi executado.\")\n",
    "\n"
   ]
  },
  {
   "cell_type": "code",
   "execution_count": null,
   "id": "75131024",
   "metadata": {
    "id": "75131024"
   },
   "outputs": [],
   "source": [
    "# Corrigindo o PYTHONPATH para permitir imports relativos ao projeto\n",
    "import os\n",
    "import sys\n",
    "\n",
    "sys.path.insert(0, os.path.abspath('..'))"
   ]
  },
  {
   "cell_type": "markdown",
   "id": "7086d211",
   "metadata": {
    "id": "7086d211"
   },
   "source": [
    "## 2. Parâmetros do Dataset e Algoritmo\n",
    "\n",
    "Abaixo, você pode sobreescrever os parâmetros padrão tanto para o dataset sintético quanto para o algoritmo BLF-GA. Basta definir a opção desejada em cada bloco de parâmetros."
   ]
  },
  {
   "cell_type": "code",
   "execution_count": null,
   "id": "239b342f",
   "metadata": {
    "colab": {
     "base_uri": "https://localhost:8080/"
    },
    "id": "239b342f",
    "outputId": "3fed7752-9cd4-448a-ac05-eed1c3f11ba1"
   },
   "outputs": [],
   "source": [
    "# Parâmetros do dataset sintético: sempre carrega padrão e sobrescreve se informado manualmente\n",
    "from utils.config import SYNTHETIC_DEFAULTS\n",
    "\n",
    "dataset_params = SYNTHETIC_DEFAULTS.copy()\n",
    "\n",
    "# Para sobrescrever, basta definir manualmente abaixo (exemplo):\n",
    "dataset_params[\"n\"] = 80\n",
    "dataset_params[\"L\"] = 300\n",
    "dataset_params[\"alphabet\"] = \"ACGT\"\n",
    "dataset_params[\"noise\"] = 0.4\n",
    "dataset_params[\"seed\"] = 1\n",
    "\n",
    "print(\"Parâmetros do dataset:\")\n",
    "print(f\" - n: {dataset_params['n']}\\n - L: {dataset_params['L']}\\n - alphabet: {dataset_params['alphabet']}\\n - noise: {dataset_params['noise']}\\n - seed: {dataset_params['seed']}\")"
   ]
  },
  {
   "cell_type": "code",
   "execution_count": null,
   "id": "7f5d8adf",
   "metadata": {},
   "outputs": [],
   "source": [
    "# Defina aqui os valores desejados para cada parâmetro (lista ou valor único)\n",
    "blfga_param_grid = {\n",
    "    'pop_size': [150, 200],                         # Tamanho da população\n",
    "    'initial_blocks': [20, 40],                     # Número de blocos iniciais\n",
    "    'min_block_len': [1],                           # Tamanho mínimo do bloco\n",
    "    'cross_prob': [0.9],                            # Probabilidade de crossover\n",
    "    'mut_prob': [0.5, 0.1],                         # Probabilidade de mutação\n",
    "    'elite_rate': [0.05],                           # Taxa de elite\n",
    "    'rediv_freq': [10],                             # Frequência de redivisão\n",
    "    'max_gens': [400],                              # Número máximo de gerações\n",
    "    'max_time': [1200.0],                           # Tempo máximo em segundos\n",
    "    'seed': [1],                                    # Semente para reprodutibilidade\n",
    "    'immigrant_freq': [10],                         # Gera imigrantes a cada X gerações\n",
    "    'immigrant_ratio': [0.2],                       # Proporção de imigrantes\n",
    "    'diversity_threshold': [0.4],                   # Limite para diversidade\n",
    "    'mutation_adapt_N': [10],                       # N gerações para detectar convergência\n",
    "    'mutation_adapt_factor': [2.0, 3.0],            # Fator de aumento temporário da mutação\n",
    "    'mutation_adapt_duration': [5],                 # Duração do aumento da mutação\n",
    "    'mutation_type': ['multi', 'transposition'],    # Tipo de mutação: multi, inversion, transposition\n",
    "    'mutation_multi_n': [2, 3],                     # Número de posições para mutação multi\n",
    "    'tournament_k': [2, 3],                         # Parâmetro externo do torneio\n",
    "    'crossover_type': ['one_point'],                # Tipo de crossover: one_point, uniform, blend_blocks\n",
    "    'niching': [False, True],                       # Ativa niching\n",
    "    'niching_radius': [3],                          # Raio de nicho\n",
    "    'refinement_type': ['greedy'],                  # Tipo de refinamento: greedy, swap, insertion, 2opt\n",
    "    'refine_elites': ['best'],                      # Elites a refinar: all, best\n",
    "    'refine_iter_limit': [100],                     # Limite de iterações por refinamento\n",
    "    'restart_patience': [20],                       # Gerações sem melhoria para restart\n",
    "    'restart_ratio': [0.3],                         # Proporção da população a reiniciar\n",
    "    'disable_elitism_gens': [0],                    # Gerações sem elitismo\n",
    "}"
   ]
  },
  {
   "cell_type": "code",
   "execution_count": null,
   "id": "94274653",
   "metadata": {
    "colab": {
     "base_uri": "https://localhost:8080/"
    },
    "id": "94274653",
    "outputId": "587ba294-dbe9-4dbf-f838-4ac7eddffdf3"
   },
   "outputs": [],
   "source": [
    "# Parâmetros do algoritmo BLF-GA: permite grid de configurações\n",
    "from itertools import product\n",
    "\n",
    "from algorithms.blf_ga.config import BLF_GA_DEFAULTS\n",
    "\n",
    "# Preenche com o padrão se não especificado\n",
    "param_names = list(BLF_GA_DEFAULTS.keys())\n",
    "param_values = [blfga_param_grid.get(k, [BLF_GA_DEFAULTS[k]]) if not isinstance(blfga_param_grid.get(k, BLF_GA_DEFAULTS[k]), list) else blfga_param_grid.get(k, [BLF_GA_DEFAULTS[k]]) for k in param_names]\n",
    "\n",
    "# Gera todas as combinações\n",
    "blfga_experimentos = list(product(*param_values))\n",
    "\n",
    "print(f\"Total de configurações BLF-GA: {len(blfga_experimentos)}\")\n",
    "for i, valores in enumerate(blfga_experimentos):\n",
    "    print(f\"Configuração {i+1}:\")\n",
    "    for k, v in zip(param_names, valores):\n",
    "        print(f\" - {k}: {v}\")"
   ]
  },
  {
   "cell_type": "markdown",
   "id": "9dc90ce0",
   "metadata": {
    "id": "9dc90ce0"
   },
   "source": [
    "# 2.1 Geração do Dataset Sintético\n",
    "\n",
    "Abaixo será gerado um dataset sintético de strings para o Closest String Problem (CSP), utilizando os parâmetros definidos acima (número de strings, comprimento, alfabeto, nível de ruído e semente).\n",
    "\n",
    "O objetivo é criar um conjunto de dados controlado e reprodutível para testar e comparar o desempenho do algoritmo BLF-GA."
   ]
  },
  {
   "cell_type": "code",
   "execution_count": null,
   "id": "1681d48d",
   "metadata": {
    "colab": {
     "base_uri": "https://localhost:8080/"
    },
    "id": "1681d48d",
    "outputId": "35c5247c-7ffa-4da9-f231-48c8011376ab"
   },
   "outputs": [],
   "source": [
    "# Gerar dataset sintético com os parâmetros definidos (nova forma)\n",
    "from datasets.dataset_synthetic import generate_dataset_with_params\n",
    "\n",
    "strings, params_usados = generate_dataset_with_params(dataset_params)\n",
    "print(f\"Dataset gerado: n={len(strings)}, L={len(strings[0])}, |Σ|={len(params_usados['alphabet'])}\")\n",
    "print(\"Parâmetros usados:\")\n",
    "for k, v in params_usados.items():\n",
    "    print(f\" - {k}: {v}\")"
   ]
  },
  {
   "cell_type": "markdown",
   "id": "eb8e240d",
   "metadata": {
    "id": "eb8e240d"
   },
   "source": [
    "## 3. Reexecução e Comparação dos Resultados\n",
    "\n",
    "Executando novamente o BLF-GA com outros parametros para analise."
   ]
  },
  {
   "cell_type": "code",
   "execution_count": null,
   "id": "264eea4e",
   "metadata": {},
   "outputs": [],
   "source": [
    "# Função utilitária para executar o BLF-GA e retornar histórico\n",
    "def executar_blfga_com_hist(strings, alphabet, params):\n",
    "    import time\n",
    "\n",
    "    from algorithms.blf_ga.algorithm import BLFGAAlgorithm\n",
    "    alg = BLFGAAlgorithm(strings, alphabet, **params)\n",
    "    t0 = time.time()\n",
    "    center, dist, history = alg.run_with_history()\n",
    "    t1 = time.time()\n",
    "    return center, dist, t1-t0, history\n"
   ]
  },
  {
   "cell_type": "code",
   "execution_count": null,
   "id": "52bfce89",
   "metadata": {
    "id": "52bfce89"
   },
   "outputs": [],
   "source": [
    "# Experimentos automáticos: variação de parâmetros do BLF-GA usando o novo grid\n",
    "import matplotlib.pyplot as plt\n",
    "import pandas as pd\n",
    "\n",
    "resultados = []\n",
    "\n",
    "for i, valores in enumerate(blfga_experimentos):\n",
    "    params = {k: v for k, v in zip(param_names, valores)}\n",
    "    # Se quiser sobrescrever só alguns parâmetros, pode atualizar aqui\n",
    "    center, dist, tempo, history = executar_blfga_com_hist(strings, params_usados['alphabet'], params)\n",
    "    resultados.append({\n",
    "        **params,\n",
    "        'dist': dist,\n",
    "        'tempo': tempo,\n",
    "        'history': history\n",
    "    })\n",
    "    print(f\"Experimento {i+1}/{len(blfga_experimentos)}: dist={dist}, tempo={tempo:.2f}s, params={params}\")\n"
   ]
  },
  {
   "cell_type": "code",
   "execution_count": null,
   "id": "78dcbf62",
   "metadata": {
    "id": "78dcbf62"
   },
   "outputs": [],
   "source": [
    "\n",
    "# DataFrame para análise\n",
    "res_df = pd.DataFrame(resultados)\n",
    "\n",
    "# Plot comparativo das melhores convergências\n",
    "plt.figure(figsize=(10,6))\n",
    "for idx, row in res_df.iterrows():\n",
    "    plt.plot(row['history'], label=f\"{row['pop_size']},{row['cross_prob']},{row['mut_prob']},{row['elite_rate']},{row['max_gens']}\")\n",
    "plt.xlabel('Geração')\n",
    "plt.ylabel('Distância')\n",
    "plt.title('Convergência BLF-GA - Variação de Parâmetros')\n",
    "plt.legend(bbox_to_anchor=(1.05, 1), loc='upper left', fontsize='small')\n",
    "plt.grid(True)\n",
    "plt.tight_layout()\n",
    "plt.show()\n",
    "\n",
    "# Exibir top 5 melhores resultados\n",
    "display(res_df.sort_values('dist').head())"
   ]
  }
 ],
 "metadata": {
  "colab": {
   "include_colab_link": true,
   "provenance": []
  },
  "kernelspec": {
   "display_name": ".venv",
   "language": "python",
   "name": "python3"
  },
  "language_info": {
   "codemirror_mode": {
    "name": "ipython",
    "version": 3
   },
   "file_extension": ".py",
   "mimetype": "text/x-python",
   "name": "python",
   "nbconvert_exporter": "python",
   "pygments_lexer": "ipython3",
   "version": "3.12.3"
  }
 },
 "nbformat": 4,
 "nbformat_minor": 5
}
