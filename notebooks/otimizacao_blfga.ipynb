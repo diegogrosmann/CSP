{
 "cells": [
  {
   "cell_type": "markdown",
   "id": "33836b5f",
   "metadata": {},
   "source": [
    "# Otimização do Algoritmo Genético BLF-GA para o Closest String Problem (CSP)\n",
    "\n",
    "Este notebook tem como objetivo analisar, testar e otimizar o desempenho do algoritmo BLF-GA aplicado ao CSP, seguindo um processo iterativo de experimentação e melhoria."
   ]
  },
  {
   "cell_type": "markdown",
   "id": "f493d07b",
   "metadata": {},
   "source": [
    "# 1. Inicializar as configurações básicas"
   ]
  },
  {
   "cell_type": "code",
   "execution_count": 48,
   "id": "75131024",
   "metadata": {},
   "outputs": [],
   "source": [
    "# Corrigindo o PYTHONPATH para permitir imports relativos ao projeto\n",
    "import sys, os\n",
    "sys.path.insert(0, os.path.abspath('..'))"
   ]
  },
  {
   "cell_type": "markdown",
   "id": "1350a255",
   "metadata": {},
   "source": [
    "## 2. Mapeamento dos Parâmetros do BLF-GA\n",
    "\n",
    "A seguir, listamos todos os parâmetros configuráveis do BLF-GA, explicando o papel de cada um e seus valores padrão."
   ]
  },
  {
   "cell_type": "code",
   "execution_count": 49,
   "id": "26c4b97a",
   "metadata": {},
   "outputs": [
    {
     "name": "stdout",
     "output_type": "stream",
     "text": [
      "\"\"\"\n",
      "Configurações padrão para o algoritmo BLF-GA.\n",
      "\n",
      "Atributos:\n",
      "    BLF_GA_DEFAULTS (dict): Parâmetros padrão do BLF-GA.\n",
      "\"\"\"\n",
      "\n",
      "# BLF-GA Configuration\n",
      "BLF_GA_DEFAULTS = {\n",
      "    'pop_size': 100,\n",
      "    'initial_blocks': 20,\n",
      "    'min_block_len': 3,\n",
      "    'cross_prob': 2,\n",
      "    'mut_prob': 0.9,\n",
      "    'elite_rate': 0.05,\n",
      "    'rediv_freq': 10,\n",
      "    'max_gens': 30,\n",
      "    'max_time': 60.0,\n",
      "    'seed': None,\n",
      "}\n",
      "\n"
     ]
    }
   ],
   "source": [
    "# Leitura dos parâmetros do BLF-GA\n",
    "import pprint\n",
    "with open('../algorithms/blf_ga/config.py', 'r', encoding='utf-8') as f:\n",
    "    config_code = f.read()\n",
    "print(config_code)"
   ]
  },
  {
   "cell_type": "markdown",
   "id": "7086d211",
   "metadata": {},
   "source": [
    "## 3 Parâmetros do Dataset e Algoritmo\n",
    "\n",
    "Abaixo, você pode escolher entre usar os parâmetros padrão ou configurar manualmente tanto para o dataset sintético quanto para o algoritmo BLF-GA. Basta definir a opção desejada em cada bloco de parâmetros."
   ]
  },
  {
   "cell_type": "code",
   "execution_count": null,
   "id": "239b342f",
   "metadata": {},
   "outputs": [],
   "source": [
    "# Parâmetros do dataset sintético: escolha entre padrão ou manual\n",
    "from utils.config import SYNTHETIC_DEFAULTS\n",
    "\n",
    "usar_dataset_padrao = True  # Altere para False para configuração padrão\n",
    "\n",
    "if usar_dataset_padrao:\n",
    "    # Parâmetros customizados (edite conforme necessário)\n",
    "    n = 200 # Número de strings\n",
    "    L = 1000 # Comprimento das strings\n",
    "    alphabet = \"ACGT\" # Alfabeto\n",
    "    noise = 0.2 # Proporção de mutações\n",
    "    seed = 42 # Semente para reprodutibilidade\n",
    "else:\n",
    "    # Parâmetros padrão\n",
    "    n = SYNTHETIC_DEFAULTS['n']\n",
    "    L = SYNTHETIC_DEFAULTS['L']\n",
    "    alphabet = SYNTHETIC_DEFAULTS['alphabet']\n",
    "    noise = SYNTHETIC_DEFAULTS['noise']\n",
    "    seed = None\n",
    "\n",
    "print(\"Parâmetros do dataset:\")\n",
    "print(f\" - n: {n}\\n - L: {L}\\n - alphabet: {alphabet}\\n - noise: {noise}\\n - seed: {seed}\")"
   ]
  },
  {
   "cell_type": "code",
   "execution_count": 51,
   "id": "94274653",
   "metadata": {},
   "outputs": [
    {
     "name": "stdout",
     "output_type": "stream",
     "text": [
      "Parâmetros iniciais do BLF-GA:\n",
      " - pop_size: 100\n",
      " - initial_blocks: 20\n",
      " - min_block_len: 3\n",
      " - cross_prob: 0.9\n",
      " - mut_prob: 0.8\n",
      " - elite_rate: 0.1\n",
      " - rediv_freq: 10\n",
      " - max_gens: 40\n",
      " - max_time: 60.0\n",
      " - seed: None\n"
     ]
    }
   ],
   "source": [
    "# Parâmetros do algoritmo BLF-GA: escolha entre padrão ou manual\n",
    "usar_algoritmo_padrao = True # Altere para False para configuração customizada\n",
    "\n",
    "from algorithms.blf_ga.config import BLF_GA_DEFAULTS\n",
    "\n",
    "if usar_algoritmo_padrao:\n",
    "    # Parâmetros customizados (exemplo, edite conforme necessário)\n",
    "    params_iniciais = BLF_GA_DEFAULTS.copy()\n",
    "    params_iniciais[\"pop_size\"] = 100\n",
    "    params_iniciais[\"cross_prob\"] = 0.9\n",
    "    params_iniciais[\"mut_prob\"] = 0.8\n",
    "    params_iniciais[\"elite_rate\"] = 0.1\n",
    "    params_iniciais[\"max_gens\"] = 40\n",
    "else:\n",
    "    params_iniciais = BLF_GA_DEFAULTS.copy()\n",
    "\n",
    "print(\"Parâmetros iniciais do BLF-GA:\")\n",
    "for k, v in params_iniciais.items():\n",
    "    print(f\" - {k}: {v}\")"
   ]
  },
  {
   "cell_type": "markdown",
   "id": "9dc90ce0",
   "metadata": {},
   "source": [
    "# 3.1 Geração do Dataset Sintético\n",
    "\n",
    "Abaixo será gerado um dataset sintético de strings para o Closest String Problem (CSP), utilizando os parâmetros definidos acima (número de strings, comprimento, alfabeto, nível de ruído e semente).\n",
    "\n",
    "O objetivo é criar um conjunto de dados controlado e reprodutível para testar e comparar o desempenho do algoritmo BLF-GA."
   ]
  },
  {
   "cell_type": "code",
   "execution_count": 52,
   "id": "1681d48d",
   "metadata": {},
   "outputs": [
    {
     "name": "stdout",
     "output_type": "stream",
     "text": [
      "Dataset gerado: n=200, L=100, |Σ|=4\n"
     ]
    }
   ],
   "source": [
    "# Gerar dataset sintético com os parâmetros definidos\n",
    "import random\n",
    "from typing import Optional\n",
    "\n",
    "def gerar_dataset_teste(n, L, alphabet, noise, seed: Optional[int] = 42):\n",
    "    rng = random.Random(seed) if seed is not None else random.Random()\n",
    "    base_string = ''.join(rng.choices(alphabet, k=L))\n",
    "    data = []\n",
    "    for _ in range(n):\n",
    "        s = list(base_string)\n",
    "        num_mut = int(round(noise * L))\n",
    "        mut_pos = rng.sample(range(L), num_mut) if num_mut > 0 else []\n",
    "        for pos in mut_pos:\n",
    "            orig = s[pos]\n",
    "            alt = rng.choice([c for c in alphabet if c != orig])\n",
    "            s[pos] = alt\n",
    "        new_s = ''.join(s)\n",
    "        data.append(new_s)\n",
    "    return data, alphabet\n",
    "\n",
    "strings, alphabet = gerar_dataset_teste(n=n, L=L, alphabet=alphabet, noise=noise, seed=seed)\n",
    "print(f\"Dataset gerado: n={len(strings)}, L={len(strings[0])}, |Σ|={len(alphabet)}\")"
   ]
  },
  {
   "cell_type": "markdown",
   "id": "61448a70",
   "metadata": {},
   "source": [
    "## 4. Execução do BLF-GA com Parâmetros Iniciais\n",
    "\n",
    "Vamos executar o BLF-GA com os parâmetros definidos e medir o desempenho (distância e tempo de execução)."
   ]
  },
  {
   "cell_type": "code",
   "execution_count": null,
   "id": "6b5f67f9",
   "metadata": {},
   "outputs": [
    {
     "name": "stdout",
     "output_type": "stream",
     "text": [
      "Melhor string encontrada: GACAGGTACAAGAAGGAGTATGCATCAATGTGGTCGTGTGGAACAAACGCCACTGGAGACTGGGTTAACCATTCGCTCCAGCGTCATGAAAGTCACTGTT\n",
      "Distância máxima: 10\n",
      "Tempo de execução: 47.52 s\n"
     ]
    },
    {
     "data": {
      "image/png": "[encoded data removed]",
      "text/plain": [
       "<Figure size 800x400 with 1 Axes>"
      ]
     },
     "metadata": {},
     "output_type": "display_data"
    }
   ],
   "source": [
    "# Execução do BLF-GA com histórico de convergência\n",
    "import matplotlib.pyplot as plt\n",
    "from algorithms.blf_ga.algorithm import BLFGAAlgorithm\n",
    "\n",
    "def executar_blfga_com_hist(strings, alphabet, params):\n",
    "    alg = BLFGAAlgorithm(strings, alphabet, **params)\n",
    "    import time\n",
    "    t0 = time.time()\n",
    "    center, dist, history = alg.run_with_history()\n",
    "    t1 = time.time()\n",
    "    return center, dist, t1-t0, history\n",
    "\n",
    "center, dist, tempo, history = executar_blfga_com_hist(strings, alphabet, params_iniciais)\n",
    "print(f\"Melhor string encontrada: {center}\")\n",
    "print(f\"Distância máxima: {dist}\")\n",
    "print(f\"Tempo de execução: {tempo:.2f} s\")\n"
   ]
  },
  {
   "cell_type": "code",
   "execution_count": null,
   "id": "4ba45a17",
   "metadata": {},
   "outputs": [],
   "source": [
    "# Plotando o histórico de convergência\n",
    "plt.figure(figsize=(8,4))\n",
    "plt.plot(history, marker='o')\n",
    "plt.xlabel('Geração')\n",
    "plt.ylabel('Distância')\n",
    "plt.title('Convergência do BLF-GA')\n",
    "plt.grid(True)\n",
    "plt.show()"
   ]
  },
  {
   "cell_type": "markdown",
   "id": "eb8e240d",
   "metadata": {},
   "source": [
    "## 9. Reexecução e Comparação dos Resultados\n",
    "\n",
    "Executando novamente o BLF-GA com outros parametros para analise. "
   ]
  },
  {
   "cell_type": "code",
   "execution_count": null,
   "id": "52bfce89",
   "metadata": {},
   "outputs": [
    {
     "name": "stdout",
     "output_type": "stream",
     "text": [
      "Experimento 1/48: dist=10, tempo=12.46s, params={'pop_size': 50, 'initial_blocks': 20, 'min_block_len': 3, 'cross_prob': 0.7, 'mut_prob': 0.7, 'elite_rate': 0.05, 'rediv_freq': 10, 'max_gens': 20, 'max_time': 60.0, 'seed': None}\n",
      "Experimento 2/48: dist=10, tempo=24.32s, params={'pop_size': 50, 'initial_blocks': 20, 'min_block_len': 3, 'cross_prob': 0.7, 'mut_prob': 0.7, 'elite_rate': 0.05, 'rediv_freq': 10, 'max_gens': 40, 'max_time': 60.0, 'seed': None}\n",
      "Experimento 2/48: dist=10, tempo=24.32s, params={'pop_size': 50, 'initial_blocks': 20, 'min_block_len': 3, 'cross_prob': 0.7, 'mut_prob': 0.7, 'elite_rate': 0.05, 'rediv_freq': 10, 'max_gens': 40, 'max_time': 60.0, 'seed': None}\n",
      "Experimento 3/48: dist=10, tempo=11.86s, params={'pop_size': 50, 'initial_blocks': 20, 'min_block_len': 3, 'cross_prob': 0.7, 'mut_prob': 0.7, 'elite_rate': 0.1, 'rediv_freq': 10, 'max_gens': 20, 'max_time': 60.0, 'seed': None}\n",
      "Experimento 3/48: dist=10, tempo=11.86s, params={'pop_size': 50, 'initial_blocks': 20, 'min_block_len': 3, 'cross_prob': 0.7, 'mut_prob': 0.7, 'elite_rate': 0.1, 'rediv_freq': 10, 'max_gens': 20, 'max_time': 60.0, 'seed': None}\n",
      "Experimento 4/48: dist=10, tempo=23.04s, params={'pop_size': 50, 'initial_blocks': 20, 'min_block_len': 3, 'cross_prob': 0.7, 'mut_prob': 0.7, 'elite_rate': 0.1, 'rediv_freq': 10, 'max_gens': 40, 'max_time': 60.0, 'seed': None}\n",
      "Experimento 4/48: dist=10, tempo=23.04s, params={'pop_size': 50, 'initial_blocks': 20, 'min_block_len': 3, 'cross_prob': 0.7, 'mut_prob': 0.7, 'elite_rate': 0.1, 'rediv_freq': 10, 'max_gens': 40, 'max_time': 60.0, 'seed': None}\n",
      "Experimento 5/48: dist=10, tempo=12.46s, params={'pop_size': 50, 'initial_blocks': 20, 'min_block_len': 3, 'cross_prob': 0.7, 'mut_prob': 0.9, 'elite_rate': 0.05, 'rediv_freq': 10, 'max_gens': 20, 'max_time': 60.0, 'seed': None}\n",
      "Experimento 5/48: dist=10, tempo=12.46s, params={'pop_size': 50, 'initial_blocks': 20, 'min_block_len': 3, 'cross_prob': 0.7, 'mut_prob': 0.9, 'elite_rate': 0.05, 'rediv_freq': 10, 'max_gens': 20, 'max_time': 60.0, 'seed': None}\n",
      "Experimento 6/48: dist=10, tempo=22.73s, params={'pop_size': 50, 'initial_blocks': 20, 'min_block_len': 3, 'cross_prob': 0.7, 'mut_prob': 0.9, 'elite_rate': 0.05, 'rediv_freq': 10, 'max_gens': 40, 'max_time': 60.0, 'seed': None}\n",
      "Experimento 6/48: dist=10, tempo=22.73s, params={'pop_size': 50, 'initial_blocks': 20, 'min_block_len': 3, 'cross_prob': 0.7, 'mut_prob': 0.9, 'elite_rate': 0.05, 'rediv_freq': 10, 'max_gens': 40, 'max_time': 60.0, 'seed': None}\n",
      "Experimento 7/48: dist=10, tempo=11.36s, params={'pop_size': 50, 'initial_blocks': 20, 'min_block_len': 3, 'cross_prob': 0.7, 'mut_prob': 0.9, 'elite_rate': 0.1, 'rediv_freq': 10, 'max_gens': 20, 'max_time': 60.0, 'seed': None}\n",
      "Experimento 7/48: dist=10, tempo=11.36s, params={'pop_size': 50, 'initial_blocks': 20, 'min_block_len': 3, 'cross_prob': 0.7, 'mut_prob': 0.9, 'elite_rate': 0.1, 'rediv_freq': 10, 'max_gens': 20, 'max_time': 60.0, 'seed': None}\n",
      "Experimento 8/48: dist=10, tempo=24.07s, params={'pop_size': 50, 'initial_blocks': 20, 'min_block_len': 3, 'cross_prob': 0.7, 'mut_prob': 0.9, 'elite_rate': 0.1, 'rediv_freq': 10, 'max_gens': 40, 'max_time': 60.0, 'seed': None}\n",
      "Experimento 8/48: dist=10, tempo=24.07s, params={'pop_size': 50, 'initial_blocks': 20, 'min_block_len': 3, 'cross_prob': 0.7, 'mut_prob': 0.9, 'elite_rate': 0.1, 'rediv_freq': 10, 'max_gens': 40, 'max_time': 60.0, 'seed': None}\n",
      "Experimento 9/48: dist=10, tempo=10.89s, params={'pop_size': 50, 'initial_blocks': 20, 'min_block_len': 3, 'cross_prob': 0.9, 'mut_prob': 0.7, 'elite_rate': 0.05, 'rediv_freq': 10, 'max_gens': 20, 'max_time': 60.0, 'seed': None}\n",
      "Experimento 9/48: dist=10, tempo=10.89s, params={'pop_size': 50, 'initial_blocks': 20, 'min_block_len': 3, 'cross_prob': 0.9, 'mut_prob': 0.7, 'elite_rate': 0.05, 'rediv_freq': 10, 'max_gens': 20, 'max_time': 60.0, 'seed': None}\n",
      "Experimento 10/48: dist=10, tempo=23.84s, params={'pop_size': 50, 'initial_blocks': 20, 'min_block_len': 3, 'cross_prob': 0.9, 'mut_prob': 0.7, 'elite_rate': 0.05, 'rediv_freq': 10, 'max_gens': 40, 'max_time': 60.0, 'seed': None}\n",
      "Experimento 10/48: dist=10, tempo=23.84s, params={'pop_size': 50, 'initial_blocks': 20, 'min_block_len': 3, 'cross_prob': 0.9, 'mut_prob': 0.7, 'elite_rate': 0.05, 'rediv_freq': 10, 'max_gens': 40, 'max_time': 60.0, 'seed': None}\n",
      "Experimento 11/48: dist=10, tempo=11.75s, params={'pop_size': 50, 'initial_blocks': 20, 'min_block_len': 3, 'cross_prob': 0.9, 'mut_prob': 0.7, 'elite_rate': 0.1, 'rediv_freq': 10, 'max_gens': 20, 'max_time': 60.0, 'seed': None}\n",
      "Experimento 11/48: dist=10, tempo=11.75s, params={'pop_size': 50, 'initial_blocks': 20, 'min_block_len': 3, 'cross_prob': 0.9, 'mut_prob': 0.7, 'elite_rate': 0.1, 'rediv_freq': 10, 'max_gens': 20, 'max_time': 60.0, 'seed': None}\n",
      "Experimento 12/48: dist=10, tempo=24.95s, params={'pop_size': 50, 'initial_blocks': 20, 'min_block_len': 3, 'cross_prob': 0.9, 'mut_prob': 0.7, 'elite_rate': 0.1, 'rediv_freq': 10, 'max_gens': 40, 'max_time': 60.0, 'seed': None}\n",
      "Experimento 13/48: dist=10, tempo=14.47s, params={'pop_size': 50, 'initial_blocks': 20, 'min_block_len': 3, 'cross_prob': 0.9, 'mut_prob': 0.9, 'elite_rate': 0.05, 'rediv_freq': 10, 'max_gens': 20, 'max_time': 60.0, 'seed': None}\n",
      "Experimento 14/48: dist=10, tempo=24.90s, params={'pop_size': 50, 'initial_blocks': 20, 'min_block_len': 3, 'cross_prob': 0.9, 'mut_prob': 0.9, 'elite_rate': 0.05, 'rediv_freq': 10, 'max_gens': 40, 'max_time': 60.0, 'seed': None}\n",
      "Experimento 15/48: dist=10, tempo=13.12s, params={'pop_size': 50, 'initial_blocks': 20, 'min_block_len': 3, 'cross_prob': 0.9, 'mut_prob': 0.9, 'elite_rate': 0.1, 'rediv_freq': 10, 'max_gens': 20, 'max_time': 60.0, 'seed': None}\n",
      "Experimento 16/48: dist=10, tempo=26.32s, params={'pop_size': 50, 'initial_blocks': 20, 'min_block_len': 3, 'cross_prob': 0.9, 'mut_prob': 0.9, 'elite_rate': 0.1, 'rediv_freq': 10, 'max_gens': 40, 'max_time': 60.0, 'seed': None}\n",
      "Experimento 17/48: dist=10, tempo=23.68s, params={'pop_size': 100, 'initial_blocks': 20, 'min_block_len': 3, 'cross_prob': 0.7, 'mut_prob': 0.7, 'elite_rate': 0.05, 'rediv_freq': 10, 'max_gens': 20, 'max_time': 60.0, 'seed': None}\n",
      "Experimento 18/48: dist=10, tempo=47.04s, params={'pop_size': 100, 'initial_blocks': 20, 'min_block_len': 3, 'cross_prob': 0.7, 'mut_prob': 0.7, 'elite_rate': 0.05, 'rediv_freq': 10, 'max_gens': 40, 'max_time': 60.0, 'seed': None}\n",
      "Experimento 19/48: dist=10, tempo=23.70s, params={'pop_size': 100, 'initial_blocks': 20, 'min_block_len': 3, 'cross_prob': 0.7, 'mut_prob': 0.7, 'elite_rate': 0.1, 'rediv_freq': 10, 'max_gens': 20, 'max_time': 60.0, 'seed': None}\n",
      "Experimento 20/48: dist=10, tempo=51.49s, params={'pop_size': 100, 'initial_blocks': 20, 'min_block_len': 3, 'cross_prob': 0.7, 'mut_prob': 0.7, 'elite_rate': 0.1, 'rediv_freq': 10, 'max_gens': 40, 'max_time': 60.0, 'seed': None}\n",
      "Experimento 21/48: dist=10, tempo=24.15s, params={'pop_size': 100, 'initial_blocks': 20, 'min_block_len': 3, 'cross_prob': 0.7, 'mut_prob': 0.9, 'elite_rate': 0.05, 'rediv_freq': 10, 'max_gens': 20, 'max_time': 60.0, 'seed': None}\n",
      "Experimento 22/48: dist=10, tempo=55.26s, params={'pop_size': 100, 'initial_blocks': 20, 'min_block_len': 3, 'cross_prob': 0.7, 'mut_prob': 0.9, 'elite_rate': 0.05, 'rediv_freq': 10, 'max_gens': 40, 'max_time': 60.0, 'seed': None}\n",
      "Experimento 23/48: dist=10, tempo=28.53s, params={'pop_size': 100, 'initial_blocks': 20, 'min_block_len': 3, 'cross_prob': 0.7, 'mut_prob': 0.9, 'elite_rate': 0.1, 'rediv_freq': 10, 'max_gens': 20, 'max_time': 60.0, 'seed': None}\n",
      "Experimento 24/48: dist=10, tempo=48.52s, params={'pop_size': 100, 'initial_blocks': 20, 'min_block_len': 3, 'cross_prob': 0.7, 'mut_prob': 0.9, 'elite_rate': 0.1, 'rediv_freq': 10, 'max_gens': 40, 'max_time': 60.0, 'seed': None}\n"
     ]
    }
   ],
   "source": [
    "# Experimentos automáticos: variação de parâmetros do BLF-GA\n",
    "import pandas as pd\n",
    "import matplotlib.pyplot as plt\n",
    "from itertools import product\n",
    "\n",
    "param_grid = {\n",
    "    'pop_size': [50, 100, 200, 500],\n",
    "    'cross_prob': [0.7, 0.9],\n",
    "    'mut_prob': [0.1, 0.2, 0.3],\n",
    "    'elite_rate': [0.05, 0.1, 0.2],\n",
    "    'max_gens': [20],\n",
    "}\n",
    "\n",
    "# Gera todas as combinações\n",
    "experimentos = list(product(*param_grid.values()))\n",
    "resultados = []\n",
    "\n",
    "for i, valores in enumerate(experimentos):\n",
    "    params = params_iniciais.copy()\n",
    "    for k, v in zip(param_grid.keys(), valores):\n",
    "        params[k] = v\n",
    "    center, dist, tempo, history = executar_blfga_com_hist(strings, alphabet, params)\n",
    "    resultados.append({\n",
    "        **{k: v for k, v in zip(param_grid.keys(), valores)},\n",
    "        'dist': dist,\n",
    "        'tempo': tempo,\n",
    "        'history': history\n",
    "    })\n",
    "    print(f\"Experimento {i+1}/{len(experimentos)}: dist={dist}, tempo={tempo:.2f}s, params={params}\")\n"
   ]
  },
  {
   "cell_type": "code",
   "execution_count": null,
   "id": "78dcbf62",
   "metadata": {},
   "outputs": [],
   "source": [
    "\n",
    "# DataFrame para análise\n",
    "res_df = pd.DataFrame(resultados)\n",
    "\n",
    "# Plot comparativo das melhores convergências\n",
    "plt.figure(figsize=(10,6))\n",
    "for idx, row in res_df.iterrows():\n",
    "    plt.plot(row['history'], label=f\"{row['pop_size']},{row['cross_prob']},{row['mut_prob']},{row['elite_rate']},{row['max_gens']}\")\n",
    "plt.xlabel('Geração')\n",
    "plt.ylabel('Distância')\n",
    "plt.title('Convergência BLF-GA - Variação de Parâmetros')\n",
    "plt.legend(bbox_to_anchor=(1.05, 1), loc='upper left', fontsize='small')\n",
    "plt.grid(True)\n",
    "plt.tight_layout()\n",
    "plt.show()\n",
    "\n",
    "# Exibir top 5 melhores resultados\n",
    "display(res_df.sort_values('dist').head())"
   ]
  }
 ],
 "metadata": {
  "kernelspec": {
   "display_name": ".venv",
   "language": "python",
   "name": "python3"
  },
  "language_info": {
   "codemirror_mode": {
    "name": "ipython",
    "version": 3
   },
   "file_extension": ".py",
   "mimetype": "text/x-python",
   "name": "python",
   "nbconvert_exporter": "python",
   "pygments_lexer": "ipython3",
   "version": "3.12.3"
  }
 },
 "nbformat": 4,
 "nbformat_minor": 5
}
